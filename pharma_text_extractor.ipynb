{
 "cells": [
  {
   "cell_type": "code",
   "execution_count": null,
   "id": "3946b498-03e7-48a0-9bd8-e1bbcb6cb3e5",
   "metadata": {},
   "outputs": [],
   "source": [
    "### From this source : https://towardsdatascience.com/how-to-extract-keywords-from-pdfs-and-arrange-in-order-of-their-weights-using-python-841556083341"
   ]
  },
  {
   "cell_type": "code",
   "execution_count": null,
   "id": "5cbfd8bc-0488-4f09-b0de-feabc9b98aaf",
   "metadata": {
    "tags": []
   },
   "outputs": [],
   "source": [
    "### Importing the appropriate packages\n",
    "\n",
    "!pip install PyPDF2\n",
    "!pip install textract\n",
    "!pip install regex"
   ]
  },
  {
   "cell_type": "code",
   "execution_count": 10,
   "id": "8ec21907-8387-4386-81b4-f52fb693f56f",
   "metadata": {},
   "outputs": [],
   "source": [
    "### importing the appropriate libraries\n",
    "\n",
    "import pandas as pd\n",
    "import numpy as np\n",
    "import PyPDF2\n",
    "import textract\n",
    "import re"
   ]
  },
  {
   "cell_type": "code",
   "execution_count": 7,
   "id": "fdd43b43-741b-4f75-93a4-1847901f5fcf",
   "metadata": {},
   "outputs": [],
   "source": [
    "filename ='/Users/etiennecampredon/Projects/pharmacy_industry/annual_reports/sanofi_SR_21.pdf' \n",
    "\n",
    "pdfFileObj = open(filename,'rb')               #open allows you to read the file\n",
    "pdfReader = PyPDF2.PdfReader(pdfFileObj)   #The pdfReader variable is a readable object that will be parsed\n",
    "num_pages = len(pdfReader.pages)                 #discerning the number of pages will allow us to parse through all the pages\n",
    "\n",
    "\n",
    "count = 0\n",
    "text = \"\"\n",
    "                                                            \n",
    "while count < num_pages:                       #The while loop will read each page\n",
    "    pageObj = pdfReader.pages[count]\n",
    "    count +=1\n",
    "    text += pageObj.extract_text()\n",
    "    \n",
    "#Below if statement exists to check if the above library returned #words. It's done because PyPDF2 cannot read scanned files.\n",
    "\n",
    "if text != \"\":\n",
    "    text = text\n",
    "    \n",
    "#If the above returns as False, we run the OCR library textract to #convert scanned/image based PDF files into text\n",
    "\n",
    "else:\n",
    "    text = textract.process('http://bit.ly/epo_keyword_extraction_document', method='tesseract', language='eng')\n",
    "\n",
    "    # Now we have a text variable which contains all the text derived from our PDF file."
   ]
  },
  {
   "cell_type": "code",
   "execution_count": 8,
   "id": "58fecee2-d8a8-4545-8018-a2110315ad6d",
   "metadata": {},
   "outputs": [],
   "source": [
    "text = text.encode('ascii','ignore').lower() #Lowercasing each word"
   ]
  },
  {
   "cell_type": "code",
   "execution_count": 13,
   "id": "a9ca9df9-a793-4ad1-bc7a-4cac4465c8bd",
   "metadata": {},
   "outputs": [
    {
     "data": {
      "text/plain": [
       "50867"
      ]
     },
     "execution_count": 13,
     "metadata": {},
     "output_type": "execute_result"
    }
   ],
   "source": [
    "keywords = re.findall(r'[a-zA-Z]\\w+',text.decode('utf-8'))\n",
    "len(keywords)                               #Total keywords in document"
   ]
  },
  {
   "cell_type": "code",
   "execution_count": 14,
   "id": "7e6cebd6-ac58-4162-af9f-7ecedd837783",
   "metadata": {},
   "outputs": [],
   "source": [
    "df = pd.DataFrame(list(set(keywords)),columns=['keywords'])  #Dataframe with unique keywords to avoid repetition in rows"
   ]
  },
  {
   "cell_type": "code",
   "execution_count": 15,
   "id": "c5762161-3a6b-4d7d-b772-a354fde71c5d",
   "metadata": {},
   "outputs": [],
   "source": [
    "def weightage(word,text,number_of_documents=1):\n",
    "    word_list = re.findall(word,text)\n",
    "    number_of_times_word_appeared =len(word_list)\n",
    "    tf = number_of_times_word_appeared/float(len(text))\n",
    "    idf = np.log((number_of_documents)/float(number_of_times_word_appeared))\n",
    "    tf_idf = tf*idf\n",
    "    return number_of_times_word_appeared,tf,idf ,tf_idf "
   ]
  },
  {
   "cell_type": "code",
   "execution_count": 17,
   "id": "9880dd64-b083-4e57-bfd4-0437ca3ea668",
   "metadata": {},
   "outputs": [],
   "source": [
    "df['number_of_times_word_appeared'] = df['keywords'].apply(lambda x: weightage(x,text.decode('utf-8'))[0])\n",
    "df['tf'] = df['keywords'].apply(lambda x: weightage(x,text.decode('utf-8'))[1])\n",
    "df['idf'] = df['keywords'].apply(lambda x: weightage(x,text.decode('utf-8'))[2])\n",
    "df['tf_idf'] = df['keywords'].apply(lambda x: weightage(x,text.decode('utf-8'))[3])"
   ]
  },
  {
   "cell_type": "code",
   "execution_count": 19,
   "id": "835716a3-750a-4bee-b69d-1391f7e1be52",
   "metadata": {},
   "outputs": [
    {
     "data": {
      "text/html": [
       "<div>\n",
       "<style scoped>\n",
       "    .dataframe tbody tr th:only-of-type {\n",
       "        vertical-align: middle;\n",
       "    }\n",
       "\n",
       "    .dataframe tbody tr th {\n",
       "        vertical-align: top;\n",
       "    }\n",
       "\n",
       "    .dataframe thead th {\n",
       "        text-align: right;\n",
       "    }\n",
       "</style>\n",
       "<table border=\"1\" class=\"dataframe\">\n",
       "  <thead>\n",
       "    <tr style=\"text-align: right;\">\n",
       "      <th></th>\n",
       "      <th>keywords</th>\n",
       "      <th>number_of_times_word_appeared</th>\n",
       "      <th>tf</th>\n",
       "      <th>idf</th>\n",
       "      <th>tf_idf</th>\n",
       "    </tr>\n",
       "  </thead>\n",
       "  <tbody>\n",
       "    <tr>\n",
       "      <th>2462</th>\n",
       "      <td>in</td>\n",
       "      <td>6159</td>\n",
       "      <td>0.016597</td>\n",
       "      <td>-8.725670</td>\n",
       "      <td>-0.144822</td>\n",
       "    </tr>\n",
       "    <tr>\n",
       "      <th>3945</th>\n",
       "      <td>an</td>\n",
       "      <td>5534</td>\n",
       "      <td>0.014913</td>\n",
       "      <td>-8.618666</td>\n",
       "      <td>-0.128530</td>\n",
       "    </tr>\n",
       "    <tr>\n",
       "      <th>3843</th>\n",
       "      <td>on</td>\n",
       "      <td>4543</td>\n",
       "      <td>0.012242</td>\n",
       "      <td>-8.421343</td>\n",
       "      <td>-0.103098</td>\n",
       "    </tr>\n",
       "    <tr>\n",
       "      <th>3008</th>\n",
       "      <td>at</td>\n",
       "      <td>4024</td>\n",
       "      <td>0.010844</td>\n",
       "      <td>-8.300032</td>\n",
       "      <td>-0.090004</td>\n",
       "    </tr>\n",
       "    <tr>\n",
       "      <th>2942</th>\n",
       "      <td>en</td>\n",
       "      <td>3969</td>\n",
       "      <td>0.010696</td>\n",
       "      <td>-8.286269</td>\n",
       "      <td>-0.088627</td>\n",
       "    </tr>\n",
       "    <tr>\n",
       "      <th>...</th>\n",
       "      <td>...</td>\n",
       "      <td>...</td>\n",
       "      <td>...</td>\n",
       "      <td>...</td>\n",
       "      <td>...</td>\n",
       "    </tr>\n",
       "    <tr>\n",
       "      <th>322</th>\n",
       "      <td>was</td>\n",
       "      <td>177</td>\n",
       "      <td>0.000477</td>\n",
       "      <td>-5.176150</td>\n",
       "      <td>-0.002469</td>\n",
       "    </tr>\n",
       "    <tr>\n",
       "      <th>1670</th>\n",
       "      <td>from</td>\n",
       "      <td>177</td>\n",
       "      <td>0.000477</td>\n",
       "      <td>-5.176150</td>\n",
       "      <td>-0.002469</td>\n",
       "    </tr>\n",
       "    <tr>\n",
       "      <th>790</th>\n",
       "      <td>ey</td>\n",
       "      <td>174</td>\n",
       "      <td>0.000469</td>\n",
       "      <td>-5.159055</td>\n",
       "      <td>-0.002419</td>\n",
       "    </tr>\n",
       "    <tr>\n",
       "      <th>3827</th>\n",
       "      <td>eu</td>\n",
       "      <td>174</td>\n",
       "      <td>0.000469</td>\n",
       "      <td>-5.159055</td>\n",
       "      <td>-0.002419</td>\n",
       "    </tr>\n",
       "    <tr>\n",
       "      <th>4195</th>\n",
       "      <td>data</td>\n",
       "      <td>173</td>\n",
       "      <td>0.000466</td>\n",
       "      <td>-5.153292</td>\n",
       "      <td>-0.002402</td>\n",
       "    </tr>\n",
       "  </tbody>\n",
       "</table>\n",
       "<p>100 rows × 5 columns</p>\n",
       "</div>"
      ],
      "text/plain": [
       "     keywords  number_of_times_word_appeared        tf       idf    tf_idf\n",
       "2462       in                           6159  0.016597 -8.725670 -0.144822\n",
       "3945       an                           5534  0.014913 -8.618666 -0.128530\n",
       "3843       on                           4543  0.012242 -8.421343 -0.103098\n",
       "3008       at                           4024  0.010844 -8.300032 -0.090004\n",
       "2942       en                           3969  0.010696 -8.286269 -0.088627\n",
       "...       ...                            ...       ...       ...       ...\n",
       "322       was                            177  0.000477 -5.176150 -0.002469\n",
       "1670     from                            177  0.000477 -5.176150 -0.002469\n",
       "790        ey                            174  0.000469 -5.159055 -0.002419\n",
       "3827       eu                            174  0.000469 -5.159055 -0.002419\n",
       "4195     data                            173  0.000466 -5.153292 -0.002402\n",
       "\n",
       "[100 rows x 5 columns]"
      ]
     },
     "execution_count": 19,
     "metadata": {},
     "output_type": "execute_result"
    }
   ],
   "source": [
    "df = df.sort_values('tf_idf',ascending=True)\n",
    "df.to_csv('Keywords.csv')\n",
    "df.head(100)"
   ]
  },
  {
   "cell_type": "markdown",
   "id": "aace8d64-bb1c-42d1-9cbc-67ba489e4b7c",
   "metadata": {
    "tags": []
   },
   "source": [
    "### Second Method - Using Gensim library"
   ]
  },
  {
   "cell_type": "code",
   "execution_count": 26,
   "id": "439a1f17-f917-4401-b58e-fe51db66fa42",
   "metadata": {},
   "outputs": [
    {
     "name": "stdout",
     "output_type": "stream",
     "text": [
      "zsh:1: = not found\n"
     ]
    }
   ],
   "source": [
    "!pip install gensim == 3.8.3"
   ]
  },
  {
   "cell_type": "code",
   "execution_count": 25,
   "id": "434ba36c-3271-42af-bdf1-4a2a4fd3fd32",
   "metadata": {
    "tags": []
   },
   "outputs": [
    {
     "name": "stdout",
     "output_type": "stream",
     "text": [
      "zsh:1: = not found\n"
     ]
    },
    {
     "ename": "ModuleNotFoundError",
     "evalue": "No module named 'gensim.summarization'",
     "output_type": "error",
     "traceback": [
      "\u001b[0;31m---------------------------------------------------------------------------\u001b[0m",
      "\u001b[0;31mModuleNotFoundError\u001b[0m                       Traceback (most recent call last)",
      "Cell \u001b[0;32mIn[25], line 2\u001b[0m\n\u001b[1;32m      1\u001b[0m get_ipython()\u001b[38;5;241m.\u001b[39msystem(\u001b[38;5;124m'\u001b[39m\u001b[38;5;124mpip install gensim == 3.8.3\u001b[39m\u001b[38;5;124m'\u001b[39m)\n\u001b[0;32m----> 2\u001b[0m \u001b[38;5;28;01mfrom\u001b[39;00m \u001b[38;5;21;01mgensim\u001b[39;00m\u001b[38;5;21;01m.\u001b[39;00m\u001b[38;5;21;01msummarization\u001b[39;00m \u001b[38;5;28;01mimport\u001b[39;00m keywords\n\u001b[1;32m      3\u001b[0m \u001b[38;5;28;01mimport\u001b[39;00m \u001b[38;5;21;01mwarnings\u001b[39;00m\n\u001b[1;32m      4\u001b[0m warnings\u001b[38;5;241m.\u001b[39mfilterwarnings(\u001b[38;5;124m\"\u001b[39m\u001b[38;5;124mignore\u001b[39m\u001b[38;5;124m\"\u001b[39m)\n",
      "\u001b[0;31mModuleNotFoundError\u001b[0m: No module named 'gensim.summarization'"
     ]
    }
   ],
   "source": [
    "!pip install gensim == 3.8.3\n",
    "from gensim.summarization import keywords\n",
    "import warnings\n",
    "warnings.filterwarnings(\"ignore\")"
   ]
  },
  {
   "cell_type": "code",
   "execution_count": null,
   "id": "302063c0-e7de-4e3f-9dd6-80ea868b4cda",
   "metadata": {},
   "outputs": [],
   "source": [
    "values = keywords(text=text,split='\\n',scores=True)"
   ]
  },
  {
   "cell_type": "code",
   "execution_count": null,
   "id": "f01428a7-0442-405f-8712-22f6d370498f",
   "metadata": {},
   "outputs": [],
   "source": [
    "data = pd.DataFrame(values,columns=['keyword','score'])\n",
    "data = data.sort_values('score',ascending=False)\n",
    "data.head(10)"
   ]
  }
 ],
 "metadata": {
  "kernelspec": {
   "display_name": "Python 3 (ipykernel)",
   "language": "python",
   "name": "python3"
  },
  "language_info": {
   "codemirror_mode": {
    "name": "ipython",
    "version": 3
   },
   "file_extension": ".py",
   "mimetype": "text/x-python",
   "name": "python",
   "nbconvert_exporter": "python",
   "pygments_lexer": "ipython3",
   "version": "3.10.7"
  }
 },
 "nbformat": 4,
 "nbformat_minor": 5
}
