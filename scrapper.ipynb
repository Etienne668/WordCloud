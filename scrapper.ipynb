{
 "cells": [
  {
   "cell_type": "code",
   "execution_count": 1,
   "id": "ea491cb8-cecf-49d9-83a3-6b3cba212058",
   "metadata": {},
   "outputs": [],
   "source": [
    "import requests\n",
    "from bs4 import BeautifulSoup\n",
    "import pandas as pd\n",
    "\n",
    "url_names = 'https://www.producthunt.com'\n",
    "response = requests.get(url_names)\n",
    "soup = BeautifulSoup(response.text, 'html.parser')"
   ]
  },
  {
   "cell_type": "code",
   "execution_count": 2,
   "id": "c9c6b337-3d76-42e9-8440-9d849e6883f0",
   "metadata": {},
   "outputs": [
    {
     "data": {
      "text/plain": [
       "'https://www.producthunt.com'"
      ]
     },
     "execution_count": 2,
     "metadata": {},
     "output_type": "execute_result"
    }
   ],
   "source": [
    "url_names"
   ]
  },
  {
   "cell_type": "code",
   "execution_count": 3,
   "id": "9e6a5885-b905-4aa6-ad3d-ceb89b577da4",
   "metadata": {
    "tags": []
   },
   "outputs": [],
   "source": [
    "# Extraction of product names \n",
    "\n",
    "items = soup.find_all(\"a\", {\"class\": \"styles_title__jWi91\"})\n",
    "i = 0\n",
    "items_name = [] #------> LIST OF NAMES FOR DESCRIPTION\n",
    "\n",
    "for item in items:\n",
    "    item = items[i].string\n",
    "    i += 1\n",
    "    items_name.append(item)        "
   ]
  },
  {
   "cell_type": "code",
   "execution_count": 5,
   "id": "59b765d7-4e2c-4499-b492-908cad6584f8",
   "metadata": {},
   "outputs": [],
   "source": [
    "# Extraction of short descriptions \n",
    "\n",
    "items = soup.find_all(\"a\", {\"class\": \"styles_tagline__j29pO\"})\n",
    "items\n",
    "\n",
    "i = 0\n",
    "items_short_description = [] #------> LIST OF SHORT DESCRIPTIONS\n",
    "\n",
    "for item in items:\n",
    "    item = items[i].string\n",
    "    i += 1\n",
    "    items_short_description.append(item)"
   ]
  },
  {
   "cell_type": "code",
   "execution_count": 6,
   "id": "2aae9f50-9908-436d-a1e5-f5cf8917475f",
   "metadata": {},
   "outputs": [],
   "source": [
    "items_name_clean = [] #------> LIST OF NAMES FOR URL USE\n",
    "\n",
    "for item in items_name:\n",
    "    # -------- Conversion of official product names to URL case\n",
    "    item_lower = item.lower()\n",
    "    item_no_space = item_lower.replace(\" \", \"-\").replace(\".\", \"-\")\n",
    "    items_name_clean.append(item_no_space)"
   ]
  },
  {
   "cell_type": "code",
   "execution_count": 12,
   "id": "4a5cac07-3087-494a-b676-d0f626ee2f47",
   "metadata": {},
   "outputs": [],
   "source": [
    "# Extraction of URLs and product detailed descriptions \n",
    "\n",
    "products = items_name_clean\n",
    "url_descriptions = [] # LIST OF URLS\n",
    "error = [] \n",
    "items_votes = []\n",
    "items_detailed_description = [] # LIST OF DETAILED DESCRIPTIONS\n",
    "\n",
    "j = 0 \n",
    "   \n",
    "for product in products:\n",
    "    # -------- Extraction of URLS per product to scrap detailed description\n",
    "    url = 'https://www.producthunt.com/posts/'+ products[j]\n",
    "    response = requests.get(url)\n",
    "    soup = BeautifulSoup(response.text, 'html.parser')\n",
    "    \n",
    "    url_descriptions.append(url)\n",
    "    \n",
    "    # -------- Extraction of detailed descriptions\n",
    "    description = soup.find_all(\"div\", {\"class\": \"styles_htmlText__d6xln color-darker-grey fontSize-16 fontWeight-400\"})\n",
    "    if description == []:\n",
    "        error.append(url + \" == None\")\n",
    "    else:\n",
    "        description = description[0].string\n",
    "    \n",
    "    items_detailed_description.append(description)\n",
    "    \n",
    "     # -------- Extraction of detailed descriptions\n",
    "    votes = soup.find_all(\"div\", {\"class\": \"color-darker-grey fontSize-18 fontWeight-600 noOfLines-undefined\"})\n",
    "    if votes == []:\n",
    "        error.append(url + \" == None\")\n",
    "    else:\n",
    "        vote = votes[0].string\n",
    "    \n",
    "    items_votes.append(vote)   \n",
    "    \n",
    "    j = j+1    \n",
    "    \n",
    "error = pd.DataFrame(error)"
   ]
  },
  {
   "cell_type": "code",
   "execution_count": 18,
   "id": "5f046cb6-449b-47bc-a606-d3c326842cde",
   "metadata": {},
   "outputs": [
    {
     "name": "stdout",
     "output_type": "stream",
     "text": [
      "69\n",
      "69\n",
      "69\n",
      "69\n"
     ]
    }
   ],
   "source": [
    "print(len(items_name))\n",
    "print(len(items_short_description))\n",
    "print(len(items_detailed_description))\n",
    "print(len(items_votes))\n",
    "\n",
    "items_name = pd.DataFrame(items_name)\n",
    "items_short_description = pd.DataFrame(items_short_description)\n",
    "items_detailed_description = pd.DataFrame(items_detailed_description)\n",
    "items_votes = pd.DataFrame(items_votes)\n",
    "\n",
    "df = pd.DataFrame()\n",
    "df = pd.concat([items_name, items_short_description, items_detailed_description, items_votes], axis = 1, keys = ['product_name', 'short_desc', 'detailed_desc', 'votes'])\n",
    "df.to_csv('product_hunt_products_desc.csv')"
   ]
  }
 ],
 "metadata": {
  "kernelspec": {
   "display_name": "Python 3 (ipykernel)",
   "language": "python",
   "name": "python3"
  },
  "language_info": {
   "codemirror_mode": {
    "name": "ipython",
    "version": 3
   },
   "file_extension": ".py",
   "mimetype": "text/x-python",
   "name": "python",
   "nbconvert_exporter": "python",
   "pygments_lexer": "ipython3",
   "version": "3.10.7"
  }
 },
 "nbformat": 4,
 "nbformat_minor": 5
}
